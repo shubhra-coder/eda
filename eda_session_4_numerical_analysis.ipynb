{
 "cells": [
  {
   "cell_type": "markdown",
   "id": "cf467c35-2573-41dc-af0a-03e8acd144de",
   "metadata": {},
   "source": [
    "**numerical analysis**"
   ]
  },
  {
   "cell_type": "code",
   "execution_count": 1,
   "id": "fc0cf257-133e-4efb-acc3-fccdbb60294a",
   "metadata": {},
   "outputs": [],
   "source": [
    "import pandas as pd\n",
    "import numpy as np\n",
    "import matplotlib.pyplot as plt\n",
    "import seaborn as sns"
   ]
  },
  {
   "cell_type": "code",
   "execution_count": 2,
   "id": "05af9313-e22a-4259-a9f2-a7bcbac4e9a1",
   "metadata": {},
   "outputs": [
    {
     "data": {
      "text/html": [
       "<div>\n",
       "<style scoped>\n",
       "    .dataframe tbody tr th:only-of-type {\n",
       "        vertical-align: middle;\n",
       "    }\n",
       "\n",
       "    .dataframe tbody tr th {\n",
       "        vertical-align: top;\n",
       "    }\n",
       "\n",
       "    .dataframe thead th {\n",
       "        text-align: right;\n",
       "    }\n",
       "</style>\n",
       "<table border=\"1\" class=\"dataframe\">\n",
       "  <thead>\n",
       "    <tr style=\"text-align: right;\">\n",
       "      <th></th>\n",
       "      <th>case_id</th>\n",
       "      <th>continent</th>\n",
       "      <th>education_of_employee</th>\n",
       "      <th>has_job_experience</th>\n",
       "      <th>requires_job_training</th>\n",
       "      <th>no_of_employees</th>\n",
       "      <th>yr_of_estab</th>\n",
       "      <th>region_of_employment</th>\n",
       "      <th>prevailing_wage</th>\n",
       "      <th>unit_of_wage</th>\n",
       "      <th>full_time_position</th>\n",
       "      <th>case_status</th>\n",
       "    </tr>\n",
       "  </thead>\n",
       "  <tbody>\n",
       "    <tr>\n",
       "      <th>0</th>\n",
       "      <td>EZYV01</td>\n",
       "      <td>Asia</td>\n",
       "      <td>High School</td>\n",
       "      <td>N</td>\n",
       "      <td>N</td>\n",
       "      <td>14513</td>\n",
       "      <td>2007</td>\n",
       "      <td>West</td>\n",
       "      <td>592.2029</td>\n",
       "      <td>Hour</td>\n",
       "      <td>Y</td>\n",
       "      <td>Denied</td>\n",
       "    </tr>\n",
       "    <tr>\n",
       "      <th>1</th>\n",
       "      <td>EZYV02</td>\n",
       "      <td>Asia</td>\n",
       "      <td>Master's</td>\n",
       "      <td>Y</td>\n",
       "      <td>N</td>\n",
       "      <td>2412</td>\n",
       "      <td>2002</td>\n",
       "      <td>Northeast</td>\n",
       "      <td>83425.6500</td>\n",
       "      <td>Year</td>\n",
       "      <td>Y</td>\n",
       "      <td>Certified</td>\n",
       "    </tr>\n",
       "    <tr>\n",
       "      <th>2</th>\n",
       "      <td>EZYV03</td>\n",
       "      <td>Asia</td>\n",
       "      <td>Bachelor's</td>\n",
       "      <td>N</td>\n",
       "      <td>Y</td>\n",
       "      <td>44444</td>\n",
       "      <td>2008</td>\n",
       "      <td>West</td>\n",
       "      <td>122996.8600</td>\n",
       "      <td>Year</td>\n",
       "      <td>Y</td>\n",
       "      <td>Denied</td>\n",
       "    </tr>\n",
       "    <tr>\n",
       "      <th>3</th>\n",
       "      <td>EZYV04</td>\n",
       "      <td>Asia</td>\n",
       "      <td>Bachelor's</td>\n",
       "      <td>N</td>\n",
       "      <td>N</td>\n",
       "      <td>98</td>\n",
       "      <td>1897</td>\n",
       "      <td>West</td>\n",
       "      <td>83434.0300</td>\n",
       "      <td>Year</td>\n",
       "      <td>Y</td>\n",
       "      <td>Denied</td>\n",
       "    </tr>\n",
       "    <tr>\n",
       "      <th>4</th>\n",
       "      <td>EZYV05</td>\n",
       "      <td>Africa</td>\n",
       "      <td>Master's</td>\n",
       "      <td>Y</td>\n",
       "      <td>N</td>\n",
       "      <td>1082</td>\n",
       "      <td>2005</td>\n",
       "      <td>South</td>\n",
       "      <td>149907.3900</td>\n",
       "      <td>Year</td>\n",
       "      <td>Y</td>\n",
       "      <td>Certified</td>\n",
       "    </tr>\n",
       "    <tr>\n",
       "      <th>...</th>\n",
       "      <td>...</td>\n",
       "      <td>...</td>\n",
       "      <td>...</td>\n",
       "      <td>...</td>\n",
       "      <td>...</td>\n",
       "      <td>...</td>\n",
       "      <td>...</td>\n",
       "      <td>...</td>\n",
       "      <td>...</td>\n",
       "      <td>...</td>\n",
       "      <td>...</td>\n",
       "      <td>...</td>\n",
       "    </tr>\n",
       "    <tr>\n",
       "      <th>25475</th>\n",
       "      <td>EZYV25476</td>\n",
       "      <td>Asia</td>\n",
       "      <td>Bachelor's</td>\n",
       "      <td>Y</td>\n",
       "      <td>Y</td>\n",
       "      <td>2601</td>\n",
       "      <td>2008</td>\n",
       "      <td>South</td>\n",
       "      <td>77092.5700</td>\n",
       "      <td>Year</td>\n",
       "      <td>Y</td>\n",
       "      <td>Certified</td>\n",
       "    </tr>\n",
       "    <tr>\n",
       "      <th>25476</th>\n",
       "      <td>EZYV25477</td>\n",
       "      <td>Asia</td>\n",
       "      <td>High School</td>\n",
       "      <td>Y</td>\n",
       "      <td>N</td>\n",
       "      <td>3274</td>\n",
       "      <td>2006</td>\n",
       "      <td>Northeast</td>\n",
       "      <td>279174.7900</td>\n",
       "      <td>Year</td>\n",
       "      <td>Y</td>\n",
       "      <td>Certified</td>\n",
       "    </tr>\n",
       "    <tr>\n",
       "      <th>25477</th>\n",
       "      <td>EZYV25478</td>\n",
       "      <td>Asia</td>\n",
       "      <td>Master's</td>\n",
       "      <td>Y</td>\n",
       "      <td>N</td>\n",
       "      <td>1121</td>\n",
       "      <td>1910</td>\n",
       "      <td>South</td>\n",
       "      <td>146298.8500</td>\n",
       "      <td>Year</td>\n",
       "      <td>N</td>\n",
       "      <td>Certified</td>\n",
       "    </tr>\n",
       "    <tr>\n",
       "      <th>25478</th>\n",
       "      <td>EZYV25479</td>\n",
       "      <td>Asia</td>\n",
       "      <td>Master's</td>\n",
       "      <td>Y</td>\n",
       "      <td>Y</td>\n",
       "      <td>1918</td>\n",
       "      <td>1887</td>\n",
       "      <td>West</td>\n",
       "      <td>86154.7700</td>\n",
       "      <td>Year</td>\n",
       "      <td>Y</td>\n",
       "      <td>Certified</td>\n",
       "    </tr>\n",
       "    <tr>\n",
       "      <th>25479</th>\n",
       "      <td>EZYV25480</td>\n",
       "      <td>Asia</td>\n",
       "      <td>Bachelor's</td>\n",
       "      <td>Y</td>\n",
       "      <td>N</td>\n",
       "      <td>3195</td>\n",
       "      <td>1960</td>\n",
       "      <td>Midwest</td>\n",
       "      <td>70876.9100</td>\n",
       "      <td>Year</td>\n",
       "      <td>Y</td>\n",
       "      <td>Certified</td>\n",
       "    </tr>\n",
       "  </tbody>\n",
       "</table>\n",
       "<p>25480 rows × 12 columns</p>\n",
       "</div>"
      ],
      "text/plain": [
       "         case_id continent education_of_employee has_job_experience  \\\n",
       "0         EZYV01      Asia           High School                  N   \n",
       "1         EZYV02      Asia              Master's                  Y   \n",
       "2         EZYV03      Asia            Bachelor's                  N   \n",
       "3         EZYV04      Asia            Bachelor's                  N   \n",
       "4         EZYV05    Africa              Master's                  Y   \n",
       "...          ...       ...                   ...                ...   \n",
       "25475  EZYV25476      Asia            Bachelor's                  Y   \n",
       "25476  EZYV25477      Asia           High School                  Y   \n",
       "25477  EZYV25478      Asia              Master's                  Y   \n",
       "25478  EZYV25479      Asia              Master's                  Y   \n",
       "25479  EZYV25480      Asia            Bachelor's                  Y   \n",
       "\n",
       "      requires_job_training  no_of_employees  yr_of_estab  \\\n",
       "0                         N            14513         2007   \n",
       "1                         N             2412         2002   \n",
       "2                         Y            44444         2008   \n",
       "3                         N               98         1897   \n",
       "4                         N             1082         2005   \n",
       "...                     ...              ...          ...   \n",
       "25475                     Y             2601         2008   \n",
       "25476                     N             3274         2006   \n",
       "25477                     N             1121         1910   \n",
       "25478                     Y             1918         1887   \n",
       "25479                     N             3195         1960   \n",
       "\n",
       "      region_of_employment  prevailing_wage unit_of_wage full_time_position  \\\n",
       "0                     West         592.2029         Hour                  Y   \n",
       "1                Northeast       83425.6500         Year                  Y   \n",
       "2                     West      122996.8600         Year                  Y   \n",
       "3                     West       83434.0300         Year                  Y   \n",
       "4                    South      149907.3900         Year                  Y   \n",
       "...                    ...              ...          ...                ...   \n",
       "25475                South       77092.5700         Year                  Y   \n",
       "25476            Northeast      279174.7900         Year                  Y   \n",
       "25477                South      146298.8500         Year                  N   \n",
       "25478                 West       86154.7700         Year                  Y   \n",
       "25479              Midwest       70876.9100         Year                  Y   \n",
       "\n",
       "      case_status  \n",
       "0          Denied  \n",
       "1       Certified  \n",
       "2          Denied  \n",
       "3          Denied  \n",
       "4       Certified  \n",
       "...           ...  \n",
       "25475   Certified  \n",
       "25476   Certified  \n",
       "25477   Certified  \n",
       "25478   Certified  \n",
       "25479   Certified  \n",
       "\n",
       "[25480 rows x 12 columns]"
      ]
     },
     "execution_count": 2,
     "metadata": {},
     "output_type": "execute_result"
    }
   ],
   "source": [
    "visa_df=pd.read_csv(r\"C:\\Users\\kisho\\Documents\\data set\\Visadataset.csv\")\n",
    "visa_df"
   ]
  },
  {
   "cell_type": "code",
   "execution_count": 3,
   "id": "1de8243d-1d22-4c50-94f3-9930e236ac85",
   "metadata": {},
   "outputs": [
    {
     "data": {
      "text/plain": [
       "Index(['no_of_employees', 'yr_of_estab', 'prevailing_wage'], dtype='object')"
      ]
     },
     "execution_count": 3,
     "metadata": {},
     "output_type": "execute_result"
    }
   ],
   "source": [
    "cat_column=visa_df.select_dtypes(include=\"object\").columns\n",
    "num_column=visa_df.select_dtypes(exclude=\"object\").columns\n",
    "num_column"
   ]
  },
  {
   "cell_type": "markdown",
   "id": "43b26d1b-60cf-42a6-90bf-704576b22ed2",
   "metadata": {},
   "source": [
    "**prevailing_wage**"
   ]
  },
  {
   "cell_type": "code",
   "execution_count": 4,
   "id": "e028761b-8f2a-4c64-8535-f073a251576e",
   "metadata": {},
   "outputs": [
    {
     "data": {
      "text/html": [
       "<div>\n",
       "<style scoped>\n",
       "    .dataframe tbody tr th:only-of-type {\n",
       "        vertical-align: middle;\n",
       "    }\n",
       "\n",
       "    .dataframe tbody tr th {\n",
       "        vertical-align: top;\n",
       "    }\n",
       "\n",
       "    .dataframe thead th {\n",
       "        text-align: right;\n",
       "    }\n",
       "</style>\n",
       "<table border=\"1\" class=\"dataframe\">\n",
       "  <thead>\n",
       "    <tr style=\"text-align: right;\">\n",
       "      <th></th>\n",
       "      <th>prevailing_wage</th>\n",
       "    </tr>\n",
       "  </thead>\n",
       "  <tbody>\n",
       "    <tr>\n",
       "      <th>0</th>\n",
       "      <td>592.2029</td>\n",
       "    </tr>\n",
       "    <tr>\n",
       "      <th>1</th>\n",
       "      <td>83425.6500</td>\n",
       "    </tr>\n",
       "    <tr>\n",
       "      <th>2</th>\n",
       "      <td>122996.8600</td>\n",
       "    </tr>\n",
       "    <tr>\n",
       "      <th>3</th>\n",
       "      <td>83434.0300</td>\n",
       "    </tr>\n",
       "    <tr>\n",
       "      <th>4</th>\n",
       "      <td>149907.3900</td>\n",
       "    </tr>\n",
       "    <tr>\n",
       "      <th>...</th>\n",
       "      <td>...</td>\n",
       "    </tr>\n",
       "    <tr>\n",
       "      <th>25475</th>\n",
       "      <td>77092.5700</td>\n",
       "    </tr>\n",
       "    <tr>\n",
       "      <th>25476</th>\n",
       "      <td>279174.7900</td>\n",
       "    </tr>\n",
       "    <tr>\n",
       "      <th>25477</th>\n",
       "      <td>146298.8500</td>\n",
       "    </tr>\n",
       "    <tr>\n",
       "      <th>25478</th>\n",
       "      <td>86154.7700</td>\n",
       "    </tr>\n",
       "    <tr>\n",
       "      <th>25479</th>\n",
       "      <td>70876.9100</td>\n",
       "    </tr>\n",
       "  </tbody>\n",
       "</table>\n",
       "<p>25480 rows × 1 columns</p>\n",
       "</div>"
      ],
      "text/plain": [
       "       prevailing_wage\n",
       "0             592.2029\n",
       "1           83425.6500\n",
       "2          122996.8600\n",
       "3           83434.0300\n",
       "4          149907.3900\n",
       "...                ...\n",
       "25475       77092.5700\n",
       "25476      279174.7900\n",
       "25477      146298.8500\n",
       "25478       86154.7700\n",
       "25479       70876.9100\n",
       "\n",
       "[25480 rows x 1 columns]"
      ]
     },
     "execution_count": 4,
     "metadata": {},
     "output_type": "execute_result"
    }
   ],
   "source": [
    "visa_df.prevailing_wage\n",
    "visa_df.loc[:,\"prevailing_wage\"]\n",
    "visa_df.loc[:,[\"prevailing_wage\"]]\n",
    "visa_df.iloc[:,8]\n",
    "visa_df.iloc[:,[8]]\n",
    "visa_df[\"prevailing_wage\"]\n",
    "visa_df[[\"prevailing_wage\"]]"
   ]
  },
  {
   "cell_type": "code",
   "execution_count": null,
   "id": "15fa46a4-4258-46ed-953c-f7dc8e8641f3",
   "metadata": {},
   "outputs": [],
   "source": [
    "- len\n",
    "\n",
    "- min\n",
    "\n",
    "- max\n",
    "\n",
    "avg\n",
    "std\n",
    "median\n",
    "25p\n",
    "50p\n",
    "75p"
   ]
  },
  {
   "cell_type": "markdown",
   "id": "d1da3d95-c920-469e-8d98-746ddcbdf301",
   "metadata": {},
   "source": [
    "**length**"
   ]
  },
  {
   "cell_type": "code",
   "execution_count": 5,
   "id": "9acad9f4-1532-443d-aa67-0f99a51ef188",
   "metadata": {},
   "outputs": [
    {
     "data": {
      "text/plain": [
       "25480"
      ]
     },
     "execution_count": 5,
     "metadata": {},
     "output_type": "execute_result"
    }
   ],
   "source": [
    "len(visa_df[\"prevailing_wage\"])"
   ]
  },
  {
   "cell_type": "markdown",
   "id": "0edb01d3-7170-4346-9368-63290487e2dc",
   "metadata": {},
   "source": [
    "**minimum**"
   ]
  },
  {
   "cell_type": "code",
   "execution_count": 6,
   "id": "c515f339-c98a-411e-85e4-c6744f80c52d",
   "metadata": {},
   "outputs": [
    {
     "data": {
      "text/plain": [
       "2.1367"
      ]
     },
     "execution_count": 6,
     "metadata": {},
     "output_type": "execute_result"
    }
   ],
   "source": [
    "min(visa_df[\"prevailing_wage\"])"
   ]
  },
  {
   "cell_type": "code",
   "execution_count": 7,
   "id": "77f538fb-17a1-40c3-950e-30c889c70ff0",
   "metadata": {},
   "outputs": [
    {
     "data": {
      "text/plain": [
       "2.1367"
      ]
     },
     "execution_count": 7,
     "metadata": {},
     "output_type": "execute_result"
    }
   ],
   "source": [
    "min(visa_df[\"prevailing_wage\"])"
   ]
  },
  {
   "cell_type": "markdown",
   "id": "54d5dd86-0849-4b39-b3ac-bc28ae164fb0",
   "metadata": {},
   "source": [
    "**maximum**"
   ]
  },
  {
   "cell_type": "code",
   "execution_count": 8,
   "id": "c1244aac-086d-4e5b-9e64-50558141a996",
   "metadata": {},
   "outputs": [
    {
     "data": {
      "text/plain": [
       "319210.27"
      ]
     },
     "execution_count": 8,
     "metadata": {},
     "output_type": "execute_result"
    }
   ],
   "source": [
    "max(visa_df[\"prevailing_wage\"])"
   ]
  },
  {
   "cell_type": "code",
   "execution_count": 9,
   "id": "6ef1f009-1aec-4152-b165-ebfb75e84583",
   "metadata": {},
   "outputs": [
    {
     "name": "stdout",
     "output_type": "stream",
     "text": [
      "the lengthof wage samples are: 25480\n",
      "the minimum wage is: 2.1367\n",
      "the maximum wage is: 319210.27\n"
     ]
    }
   ],
   "source": [
    "count=len(visa_df[\"prevailing_wage\"])\n",
    "min_wage=min(visa_df[\"prevailing_wage\"])\n",
    "max_wage=max(visa_df[\"prevailing_wage\"])\n",
    "print(\"the lengthof wage samples are:\",count)\n",
    "print(\"the minimum wage is:\",min_wage)\n",
    "print(\"the maximum wage is:\",max_wage)"
   ]
  },
  {
   "cell_type": "markdown",
   "id": "dc1bd794-2f1a-4cd3-9b1b-e6e0b6c923fc",
   "metadata": {},
   "source": [
    "**mean**"
   ]
  },
  {
   "cell_type": "code",
   "execution_count": 11,
   "id": "d8103ad6-4de5-4584-8e20-092f2988af9e",
   "metadata": {},
   "outputs": [
    {
     "data": {
      "text/plain": [
       "74455.81459209183"
      ]
     },
     "execution_count": 11,
     "metadata": {},
     "output_type": "execute_result"
    }
   ],
   "source": [
    "visa_df[\"prevailing_wage\"].mean()"
   ]
  },
  {
   "cell_type": "markdown",
   "id": "589a3bb0-cc63-42b7-be4d-b443bf572120",
   "metadata": {},
   "source": [
    "**median**"
   ]
  },
  {
   "cell_type": "code",
   "execution_count": 12,
   "id": "87a7f216-7d42-44e6-b89c-c2aae26330b8",
   "metadata": {},
   "outputs": [
    {
     "data": {
      "text/plain": [
       "70308.20999999999"
      ]
     },
     "execution_count": 12,
     "metadata": {},
     "output_type": "execute_result"
    }
   ],
   "source": [
    "visa_df[\"prevailing_wage\"].median()"
   ]
  },
  {
   "cell_type": "code",
   "execution_count": 10,
   "id": "cbbed919-9a2e-43d5-b43a-dbbe417f90aa",
   "metadata": {},
   "outputs": [
    {
     "name": "stdout",
     "output_type": "stream",
     "text": [
      "the avarage wage is: 74455.81\n",
      "the median wage is: 70308.21\n"
     ]
    }
   ],
   "source": [
    "mean_wage=round(visa_df[\"prevailing_wage\"].mean(),2)\n",
    "median_wage=round(visa_df[\"prevailing_wage\"].median(),2)\n",
    "print(\"the avarage wage is:\",mean_wage)\n",
    "print(\"the median wage is:\",median_wage)"
   ]
  },
  {
   "cell_type": "markdown",
   "id": "39280e1a-c7e4-4ce0-95b0-541c0a2ede93",
   "metadata": {},
   "source": [
    "- mode is not suitablemetric for numerical analysis\n",
    "- different observation can have same value"
   ]
  },
  {
   "cell_type": "markdown",
   "id": "b09dad23-3154-4284-95e1-ac2bfb361528",
   "metadata": {},
   "source": [
    "**using numpy**"
   ]
  },
  {
   "cell_type": "code",
   "execution_count": 14,
   "id": "87a3fa20-c8ff-4722-a8ca-c5ddd4fd303a",
   "metadata": {},
   "outputs": [
    {
     "data": {
      "text/plain": [
       "74455.81459209183"
      ]
     },
     "execution_count": 14,
     "metadata": {},
     "output_type": "execute_result"
    }
   ],
   "source": [
    "np.mean(visa_df[\"prevailing_wage\"])"
   ]
  },
  {
   "cell_type": "code",
   "execution_count": 15,
   "id": "2a9987ef-d30e-44c4-80b0-30ea6214963b",
   "metadata": {},
   "outputs": [
    {
     "data": {
      "text/plain": [
       "70308.20999999999"
      ]
     },
     "execution_count": 15,
     "metadata": {},
     "output_type": "execute_result"
    }
   ],
   "source": [
    "np.median(visa_df[\"prevailing_wage\"])"
   ]
  },
  {
   "cell_type": "markdown",
   "id": "73828282-54af-4407-9eb1-0df2f4906665",
   "metadata": {},
   "source": [
    "**standard deviation**"
   ]
  },
  {
   "cell_type": "code",
   "execution_count": 16,
   "id": "760adc46-22ec-46ef-9ac9-2096c1fd9316",
   "metadata": {},
   "outputs": [
    {
     "data": {
      "text/plain": [
       "52816"
      ]
     },
     "execution_count": 16,
     "metadata": {},
     "output_type": "execute_result"
    }
   ],
   "source": [
    "std_wage=round(visa_df[\"prevailing_wage\"].std(),)\n",
    "std_wage"
   ]
  },
  {
   "cell_type": "code",
   "execution_count": 4,
   "id": "2d647abf-465d-49fa-b98d-4ed010c55673",
   "metadata": {},
   "outputs": [],
   "source": [
    "count=len(visa_df[\"prevailing_wage\"])\n",
    "min_wage=min(visa_df[\"prevailing_wage\"])\n",
    "max_wage=max(visa_df[\"prevailing_wage\"])\n",
    "mean_wage=round(visa_df[\"prevailing_wage\"].mean(),2)\n",
    "median_wage=round(visa_df[\"prevailing_wage\"].median(),2)\n",
    "std_wage=round(visa_df[\"prevailing_wage\"].std(),)"
   ]
  },
  {
   "cell_type": "code",
   "execution_count": 5,
   "id": "df6d4da2-1f0d-42b4-a8b8-64fc75740dcc",
   "metadata": {},
   "outputs": [],
   "source": [
    "l=[count,min_wage,max_wage,mean_wage,median_wage,std_wage]"
   ]
  },
  {
   "cell_type": "code",
   "execution_count": 6,
   "id": "517ae96c-4fe7-4a19-b43d-40d6c634031c",
   "metadata": {},
   "outputs": [
    {
     "data": {
      "text/html": [
       "<div>\n",
       "<style scoped>\n",
       "    .dataframe tbody tr th:only-of-type {\n",
       "        vertical-align: middle;\n",
       "    }\n",
       "\n",
       "    .dataframe tbody tr th {\n",
       "        vertical-align: top;\n",
       "    }\n",
       "\n",
       "    .dataframe thead th {\n",
       "        text-align: right;\n",
       "    }\n",
       "</style>\n",
       "<table border=\"1\" class=\"dataframe\">\n",
       "  <thead>\n",
       "    <tr style=\"text-align: right;\">\n",
       "      <th></th>\n",
       "      <th>prevailing_wage</th>\n",
       "    </tr>\n",
       "  </thead>\n",
       "  <tbody>\n",
       "    <tr>\n",
       "      <th>count</th>\n",
       "      <td>25480.0000</td>\n",
       "    </tr>\n",
       "    <tr>\n",
       "      <th>min_wage</th>\n",
       "      <td>2.1367</td>\n",
       "    </tr>\n",
       "    <tr>\n",
       "      <th>max_wage</th>\n",
       "      <td>319210.2700</td>\n",
       "    </tr>\n",
       "    <tr>\n",
       "      <th>mean_wage</th>\n",
       "      <td>74455.8100</td>\n",
       "    </tr>\n",
       "    <tr>\n",
       "      <th>median_wage</th>\n",
       "      <td>70308.2100</td>\n",
       "    </tr>\n",
       "    <tr>\n",
       "      <th>std_wage</th>\n",
       "      <td>52816.0000</td>\n",
       "    </tr>\n",
       "  </tbody>\n",
       "</table>\n",
       "</div>"
      ],
      "text/plain": [
       "             prevailing_wage\n",
       "count             25480.0000\n",
       "min_wage              2.1367\n",
       "max_wage         319210.2700\n",
       "mean_wage         74455.8100\n",
       "median_wage       70308.2100\n",
       "std_wage          52816.0000"
      ]
     },
     "execution_count": 6,
     "metadata": {},
     "output_type": "execute_result"
    }
   ],
   "source": [
    "wage_df=pd.DataFrame(l,columns=[\"prevailing_wage\"],index=[\"count\",\"min_wage\",\"max_wage\",\"mean_wage\",\"median_wage\",\"std_wage\"])\n",
    "wage_df"
   ]
  },
  {
   "cell_type": "code",
   "execution_count": 14,
   "id": "58ce3c6c-40ad-41d1-b3a2-b6f735ece436",
   "metadata": {},
   "outputs": [
    {
     "data": {
      "text/html": [
       "<div>\n",
       "<style scoped>\n",
       "    .dataframe tbody tr th:only-of-type {\n",
       "        vertical-align: middle;\n",
       "    }\n",
       "\n",
       "    .dataframe tbody tr th {\n",
       "        vertical-align: top;\n",
       "    }\n",
       "\n",
       "    .dataframe thead th {\n",
       "        text-align: right;\n",
       "    }\n",
       "</style>\n",
       "<table border=\"1\" class=\"dataframe\">\n",
       "  <thead>\n",
       "    <tr style=\"text-align: right;\">\n",
       "      <th></th>\n",
       "      <th>no_of_employees</th>\n",
       "      <th>yr_of_estab</th>\n",
       "      <th>prevailing_wage</th>\n",
       "    </tr>\n",
       "  </thead>\n",
       "  <tbody>\n",
       "    <tr>\n",
       "      <th>count</th>\n",
       "      <td>25480.000000</td>\n",
       "      <td>25480.000000</td>\n",
       "      <td>25480.000000</td>\n",
       "    </tr>\n",
       "    <tr>\n",
       "      <th>mean</th>\n",
       "      <td>5667.043210</td>\n",
       "      <td>1979.409929</td>\n",
       "      <td>74455.814592</td>\n",
       "    </tr>\n",
       "    <tr>\n",
       "      <th>std</th>\n",
       "      <td>22877.928848</td>\n",
       "      <td>42.366929</td>\n",
       "      <td>52815.942327</td>\n",
       "    </tr>\n",
       "    <tr>\n",
       "      <th>min</th>\n",
       "      <td>-26.000000</td>\n",
       "      <td>1800.000000</td>\n",
       "      <td>2.136700</td>\n",
       "    </tr>\n",
       "    <tr>\n",
       "      <th>25%</th>\n",
       "      <td>1022.000000</td>\n",
       "      <td>1976.000000</td>\n",
       "      <td>34015.480000</td>\n",
       "    </tr>\n",
       "    <tr>\n",
       "      <th>50%</th>\n",
       "      <td>2109.000000</td>\n",
       "      <td>1997.000000</td>\n",
       "      <td>70308.210000</td>\n",
       "    </tr>\n",
       "    <tr>\n",
       "      <th>75%</th>\n",
       "      <td>3504.000000</td>\n",
       "      <td>2005.000000</td>\n",
       "      <td>107735.512500</td>\n",
       "    </tr>\n",
       "    <tr>\n",
       "      <th>max</th>\n",
       "      <td>602069.000000</td>\n",
       "      <td>2016.000000</td>\n",
       "      <td>319210.270000</td>\n",
       "    </tr>\n",
       "  </tbody>\n",
       "</table>\n",
       "</div>"
      ],
      "text/plain": [
       "       no_of_employees   yr_of_estab  prevailing_wage\n",
       "count     25480.000000  25480.000000     25480.000000\n",
       "mean       5667.043210   1979.409929     74455.814592\n",
       "std       22877.928848     42.366929     52815.942327\n",
       "min         -26.000000   1800.000000         2.136700\n",
       "25%        1022.000000   1976.000000     34015.480000\n",
       "50%        2109.000000   1997.000000     70308.210000\n",
       "75%        3504.000000   2005.000000    107735.512500\n",
       "max      602069.000000   2016.000000    319210.270000"
      ]
     },
     "execution_count": 14,
     "metadata": {},
     "output_type": "execute_result"
    }
   ],
   "source": [
    "visa_df.describe()"
   ]
  },
  {
   "cell_type": "markdown",
   "id": "af1fb7d6-c92f-41e2-a5b2-c504311a37f7",
   "metadata": {},
   "source": [
    "**25p-50p-75p**"
   ]
  },
  {
   "cell_type": "markdown",
   "id": "1647da1c-806a-487d-a32c-61c0914f1904",
   "metadata": {},
   "source": [
    "**percentile**\n",
    "  \n",
    "- in numpy we have prcentile\n",
    "\n",
    "- the method is np.percentile()\n",
    "\n",
    "- it takes 2 arguments\n",
    "\n",
    "- 1.a:is array\n",
    "\n",
    "- 2.q value,which percentile data we want,that value we need to provide\n",
    "\n",
    "- if u want 25p value thenn q=25\n",
    "\n",
    "**quantile**\n",
    "  \n",
    "- in numpy we have quantile method\n",
    "\n",
    "- it takes 2 arguments\n",
    "\n",
    "- the method is np.quantile()\n",
    "\n",
    "-  1.a:is array means data\n",
    "\n",
    "- 2.q value,which percentile data we want,that value we need to provide\n",
    "\n",
    "- if u want 25p value then q=0.25\n",
    "\n",
    "- if u want50p value then q=0.50"
   ]
  },
  {
   "cell_type": "code",
   "execution_count": 15,
   "id": "45d14ad9-5f34-46fe-af7d-63e3190d9a88",
   "metadata": {},
   "outputs": [
    {
     "data": {
      "text/plain": [
       "34015.479999999996"
      ]
     },
     "execution_count": 15,
     "metadata": {},
     "output_type": "execute_result"
    }
   ],
   "source": [
    "np.percentile(visa_df[\"prevailing_wage\"],25)\n",
    "# 0 to 100"
   ]
  },
  {
   "cell_type": "code",
   "execution_count": 16,
   "id": "d058a188-eccd-41aa-8465-eaf205c8fd45",
   "metadata": {},
   "outputs": [
    {
     "data": {
      "text/plain": [
       "34015.479999999996"
      ]
     },
     "execution_count": 16,
     "metadata": {},
     "output_type": "execute_result"
    }
   ],
   "source": [
    "np.quantile(visa_df[\"prevailing_wage\"],0.25)\n",
    "# 0 to 1"
   ]
  },
  {
   "cell_type": "code",
   "execution_count": 11,
   "id": "2898224a-c1a8-4a12-bcba-959116549dbf",
   "metadata": {},
   "outputs": [
    {
     "name": "stdout",
     "output_type": "stream",
     "text": [
      "25p value is: 34015.48\n",
      "50p value is: 70308.21\n",
      "75p value is: 107735.51\n"
     ]
    }
   ],
   "source": [
    "wage_25p=round(np.percentile(visa_df[\"prevailing_wage\"],25),2)\n",
    "wage_50p=round(np.percentile(visa_df[\"prevailing_wage\"],50),2)\n",
    "wage_75p=round(np.percentile(visa_df[\"prevailing_wage\"],75),2)\n",
    "print(\"25p value is:\",wage_25p)\n",
    "print(\"50p value is:\",wage_50p)\n",
    "print(\"75p value is:\",wage_75p)"
   ]
  },
  {
   "cell_type": "code",
   "execution_count": 12,
   "id": "60a5a1c4-1988-490b-8c3e-53f4a1313f7e",
   "metadata": {},
   "outputs": [
    {
     "data": {
      "text/html": [
       "<div>\n",
       "<style scoped>\n",
       "    .dataframe tbody tr th:only-of-type {\n",
       "        vertical-align: middle;\n",
       "    }\n",
       "\n",
       "    .dataframe tbody tr th {\n",
       "        vertical-align: top;\n",
       "    }\n",
       "\n",
       "    .dataframe thead th {\n",
       "        text-align: right;\n",
       "    }\n",
       "</style>\n",
       "<table border=\"1\" class=\"dataframe\">\n",
       "  <thead>\n",
       "    <tr style=\"text-align: right;\">\n",
       "      <th></th>\n",
       "      <th>prevailing_wage</th>\n",
       "    </tr>\n",
       "  </thead>\n",
       "  <tbody>\n",
       "    <tr>\n",
       "      <th>count</th>\n",
       "      <td>25480.0000</td>\n",
       "    </tr>\n",
       "    <tr>\n",
       "      <th>min_wage</th>\n",
       "      <td>2.1367</td>\n",
       "    </tr>\n",
       "    <tr>\n",
       "      <th>max_wage</th>\n",
       "      <td>319210.2700</td>\n",
       "    </tr>\n",
       "    <tr>\n",
       "      <th>mean_wage</th>\n",
       "      <td>74455.8100</td>\n",
       "    </tr>\n",
       "    <tr>\n",
       "      <th>median_wage</th>\n",
       "      <td>70308.2100</td>\n",
       "    </tr>\n",
       "    <tr>\n",
       "      <th>std_wage</th>\n",
       "      <td>52816.0000</td>\n",
       "    </tr>\n",
       "    <tr>\n",
       "      <th>wage_25p</th>\n",
       "      <td>34015.4800</td>\n",
       "    </tr>\n",
       "    <tr>\n",
       "      <th>wage_50p</th>\n",
       "      <td>70308.2100</td>\n",
       "    </tr>\n",
       "    <tr>\n",
       "      <th>wage_75p</th>\n",
       "      <td>107735.5100</td>\n",
       "    </tr>\n",
       "  </tbody>\n",
       "</table>\n",
       "</div>"
      ],
      "text/plain": [
       "             prevailing_wage\n",
       "count             25480.0000\n",
       "min_wage              2.1367\n",
       "max_wage         319210.2700\n",
       "mean_wage         74455.8100\n",
       "median_wage       70308.2100\n",
       "std_wage          52816.0000\n",
       "wage_25p          34015.4800\n",
       "wage_50p          70308.2100\n",
       "wage_75p         107735.5100"
      ]
     },
     "execution_count": 12,
     "metadata": {},
     "output_type": "execute_result"
    }
   ],
   "source": [
    "l=[count,min_wage,max_wage,mean_wage,median_wage,std_wage,wage_25p,wage_50p,wage_75p]\n",
    "wage_df=pd.DataFrame(l,columns=[\"prevailing_wage\"],index=[\"count\",\"min_wage\",\"max_wage\",\"mean_wage\",\"median_wage\",\"std_wage\",\"wage_25p\",\"wage_50p\",\"wage_75p\"])\n",
    "wage_df"
   ]
  },
  {
   "cell_type": "code",
   "execution_count": 13,
   "id": "a1b0fac3-089e-4643-8f59-e8325f6a28c9",
   "metadata": {},
   "outputs": [],
   "source": [
    "count=len(visa_df[\"prevailing_wage\"])\n",
    "min_wage=min(visa_df[\"prevailing_wage\"])\n",
    "max_wage=max(visa_df[\"prevailing_wage\"])\n",
    "mean_wage=round(visa_df[\"prevailing_wage\"].mean(),2)\n",
    "median_wage=round(visa_df[\"prevailing_wage\"].median(),2)\n",
    "std_wage=round(visa_df[\"prevailing_wage\"].std(),2)\n",
    "wage_25p=round(np.percentile(visa_df[\"prevailing_wage\"],25),2)\n",
    "wage_50p=round(np.percentile(visa_df[\"prevailing_wage\"],50),2)\n",
    "wage_75p=round(np.percentile(visa_df[\"prevailing_wage\"],75),2)"
   ]
  },
  {
   "cell_type": "code",
   "execution_count": 7,
   "id": "20e60ca7-2924-44d5-a57f-5599ce2c4633",
   "metadata": {},
   "outputs": [
    {
     "data": {
      "text/html": [
       "<div>\n",
       "<style scoped>\n",
       "    .dataframe tbody tr th:only-of-type {\n",
       "        vertical-align: middle;\n",
       "    }\n",
       "\n",
       "    .dataframe tbody tr th {\n",
       "        vertical-align: top;\n",
       "    }\n",
       "\n",
       "    .dataframe thead th {\n",
       "        text-align: right;\n",
       "    }\n",
       "</style>\n",
       "<table border=\"1\" class=\"dataframe\">\n",
       "  <thead>\n",
       "    <tr style=\"text-align: right;\">\n",
       "      <th></th>\n",
       "      <th>prevailing_wage</th>\n",
       "      <th>yr_of_estab</th>\n",
       "      <th>no_of_employees</th>\n",
       "    </tr>\n",
       "  </thead>\n",
       "  <tbody>\n",
       "    <tr>\n",
       "      <th>count</th>\n",
       "      <td>25480.0000</td>\n",
       "      <td>25480.00</td>\n",
       "      <td>25480.00</td>\n",
       "    </tr>\n",
       "    <tr>\n",
       "      <th>min</th>\n",
       "      <td>2.1367</td>\n",
       "      <td>1800.00</td>\n",
       "      <td>-26.00</td>\n",
       "    </tr>\n",
       "    <tr>\n",
       "      <th>max</th>\n",
       "      <td>319210.2700</td>\n",
       "      <td>2016.00</td>\n",
       "      <td>602069.00</td>\n",
       "    </tr>\n",
       "    <tr>\n",
       "      <th>mean</th>\n",
       "      <td>74455.8100</td>\n",
       "      <td>1979.41</td>\n",
       "      <td>5667.04</td>\n",
       "    </tr>\n",
       "    <tr>\n",
       "      <th>median</th>\n",
       "      <td>70308.2100</td>\n",
       "      <td>1997.00</td>\n",
       "      <td>2109.00</td>\n",
       "    </tr>\n",
       "    <tr>\n",
       "      <th>std</th>\n",
       "      <td>52816.0000</td>\n",
       "      <td>42.00</td>\n",
       "      <td>22878.00</td>\n",
       "    </tr>\n",
       "    <tr>\n",
       "      <th>25p</th>\n",
       "      <td>34015.4800</td>\n",
       "      <td>1976.00</td>\n",
       "      <td>1022.00</td>\n",
       "    </tr>\n",
       "    <tr>\n",
       "      <th>50p</th>\n",
       "      <td>70308.2100</td>\n",
       "      <td>1997.00</td>\n",
       "      <td>2109.00</td>\n",
       "    </tr>\n",
       "    <tr>\n",
       "      <th>75p</th>\n",
       "      <td>107735.5100</td>\n",
       "      <td>2005.00</td>\n",
       "      <td>3504.00</td>\n",
       "    </tr>\n",
       "  </tbody>\n",
       "</table>\n",
       "</div>"
      ],
      "text/plain": [
       "        prevailing_wage  yr_of_estab  no_of_employees\n",
       "count        25480.0000     25480.00         25480.00\n",
       "min              2.1367      1800.00           -26.00\n",
       "max         319210.2700      2016.00        602069.00\n",
       "mean         74455.8100      1979.41          5667.04\n",
       "median       70308.2100      1997.00          2109.00\n",
       "std          52816.0000        42.00         22878.00\n",
       "25p          34015.4800      1976.00          1022.00\n",
       "50p          70308.2100      1997.00          2109.00\n",
       "75p         107735.5100      2005.00          3504.00"
      ]
     },
     "execution_count": 7,
     "metadata": {},
     "output_type": "execute_result"
    }
   ],
   "source": [
    "num_df=pd.DataFrame()\n",
    "for i in num_column[:]:\n",
    "    count=len(visa_df[i])\n",
    "    min_wage=min(visa_df[i])\n",
    "    max_wage=max(visa_df[i])\n",
    "    mean_wage=round(visa_df[i].mean(),2)\n",
    "    median_wage=round(visa_df[i].median(),2)\n",
    "    std_wage=round(visa_df[i].std(),)\n",
    "    wage_25p=round(np.percentile(visa_df[i],25),2)\n",
    "    wage_50p=round(np.percentile(visa_df[i],50),2)\n",
    "    wage_75p=round(np.percentile(visa_df[i],75),2)\n",
    "    values=[count,min_wage,max_wage,mean_wage,median_wage,std_wage,wage_25p,wage_50p,wage_75p]\n",
    "    df=pd.DataFrame(values,columns=[i],index=[\"count\",\"min\",\"max\",\"mean\",\"median\",\"std\",\"25p\",\"50p\",\"75p\"])\n",
    "    num_df=pd.concat([df,num_df],axis=1)\n",
    "num_df"
   ]
  },
  {
   "cell_type": "code",
   "execution_count": 62,
   "id": "bd496ec8-4d2f-4853-bcbe-2b36e7e18a6f",
   "metadata": {},
   "outputs": [],
   "source": [
    "import os\n",
    "root=os.getcwd()\n",
    "folder=\"visa_numerical_data\"\n",
    "dir=os.path.join(root,folder)\n",
    "os.makedirs(dir)"
   ]
  },
  {
   "cell_type": "code",
   "execution_count": 64,
   "id": "830a39b0-9c69-4f24-812d-0d669f0cbfc1",
   "metadata": {},
   "outputs": [],
   "source": [
    "folder=\"numerical_df\"\n",
    "dir=os.path.join(root+\"\\\\\"+\"visa_numerical_data\",folder)\n",
    "os.makedirs(dir)"
   ]
  },
  {
   "cell_type": "code",
   "execution_count": 66,
   "id": "f03df0b4-328f-4e9c-8006-91a30b6028eb",
   "metadata": {},
   "outputs": [],
   "source": [
    "num_df=pd.DataFrame()\n",
    "for i in num_column[:]:\n",
    "    count=len(visa_df[i])\n",
    "    min_wage=min(visa_df[i])\n",
    "    max_wage=max(visa_df[i])\n",
    "    mean_wage=round(visa_df[i].mean(),2)\n",
    "    median_wage=round(visa_df[i].median(),2)\n",
    "    std_wage=round(visa_df[i].std(),)\n",
    "    wage_25p=round(np.percentile(visa_df[i],25),2)\n",
    "    wage_50p=round(np.percentile(visa_df[i],50),2)\n",
    "    wage_75p=round(np.percentile(visa_df[i],75),2)\n",
    "    values=[count,min_wage,max_wage,mean_wage,median_wage,std_wage,wage_25p,wage_50p,wage_75p]\n",
    "    df=pd.DataFrame(values,columns=[i],index=[\"count\",\"min\",\"max\",\"mean\",\"median\",\"std\",\"25p\",\"50p\",\"75p\"])\n",
    "    num_df[i]=df\n",
    "num_df\n",
    "num_df.to_csv(f\"{dir}\\\\numerical_df.csv\")"
   ]
  },
  {
   "cell_type": "code",
   "execution_count": 17,
   "id": "086192e9-bdb9-484a-912b-d80780d36042",
   "metadata": {},
   "outputs": [
    {
     "data": {
      "text/html": [
       "<div>\n",
       "<style scoped>\n",
       "    .dataframe tbody tr th:only-of-type {\n",
       "        vertical-align: middle;\n",
       "    }\n",
       "\n",
       "    .dataframe tbody tr th {\n",
       "        vertical-align: top;\n",
       "    }\n",
       "\n",
       "    .dataframe thead th {\n",
       "        text-align: right;\n",
       "    }\n",
       "</style>\n",
       "<table border=\"1\" class=\"dataframe\">\n",
       "  <thead>\n",
       "    <tr style=\"text-align: right;\">\n",
       "      <th></th>\n",
       "      <th>prevailing_wage</th>\n",
       "      <th>yr_of_estab</th>\n",
       "      <th>no_of_employees</th>\n",
       "    </tr>\n",
       "  </thead>\n",
       "  <tbody>\n",
       "    <tr>\n",
       "      <th>count</th>\n",
       "      <td>25480.0000</td>\n",
       "      <td>25480.00</td>\n",
       "      <td>25480.00</td>\n",
       "    </tr>\n",
       "    <tr>\n",
       "      <th>min</th>\n",
       "      <td>2.1367</td>\n",
       "      <td>1800.00</td>\n",
       "      <td>-26.00</td>\n",
       "    </tr>\n",
       "    <tr>\n",
       "      <th>max</th>\n",
       "      <td>319210.2700</td>\n",
       "      <td>2016.00</td>\n",
       "      <td>602069.00</td>\n",
       "    </tr>\n",
       "    <tr>\n",
       "      <th>mean</th>\n",
       "      <td>74455.8100</td>\n",
       "      <td>1979.41</td>\n",
       "      <td>5667.04</td>\n",
       "    </tr>\n",
       "    <tr>\n",
       "      <th>median</th>\n",
       "      <td>70308.2100</td>\n",
       "      <td>1997.00</td>\n",
       "      <td>2109.00</td>\n",
       "    </tr>\n",
       "    <tr>\n",
       "      <th>std</th>\n",
       "      <td>52816.0000</td>\n",
       "      <td>42.00</td>\n",
       "      <td>22878.00</td>\n",
       "    </tr>\n",
       "    <tr>\n",
       "      <th>25p</th>\n",
       "      <td>34015.4800</td>\n",
       "      <td>1976.00</td>\n",
       "      <td>1022.00</td>\n",
       "    </tr>\n",
       "    <tr>\n",
       "      <th>50p</th>\n",
       "      <td>70308.2100</td>\n",
       "      <td>1997.00</td>\n",
       "      <td>2109.00</td>\n",
       "    </tr>\n",
       "    <tr>\n",
       "      <th>75p</th>\n",
       "      <td>107735.5100</td>\n",
       "      <td>2005.00</td>\n",
       "      <td>3504.00</td>\n",
       "    </tr>\n",
       "  </tbody>\n",
       "</table>\n",
       "</div>"
      ],
      "text/plain": [
       "        prevailing_wage  yr_of_estab  no_of_employees\n",
       "count        25480.0000     25480.00         25480.00\n",
       "min              2.1367      1800.00           -26.00\n",
       "max         319210.2700      2016.00        602069.00\n",
       "mean         74455.8100      1979.41          5667.04\n",
       "median       70308.2100      1997.00          2109.00\n",
       "std          52816.0000        42.00         22878.00\n",
       "25p          34015.4800      1976.00          1022.00\n",
       "50p          70308.2100      1997.00          2109.00\n",
       "75p         107735.5100      2005.00          3504.00"
      ]
     },
     "execution_count": 17,
     "metadata": {},
     "output_type": "execute_result"
    }
   ],
   "source": [
    "num_df"
   ]
  },
  {
   "cell_type": "code",
   "execution_count": 18,
   "id": "b6be2788-4cda-4009-967d-cfe182e0cde9",
   "metadata": {},
   "outputs": [
    {
     "data": {
      "text/plain": [
       "Index(['prevailing_wage', 'yr_of_estab', 'no_of_employees'], dtype='object')"
      ]
     },
     "execution_count": 18,
     "metadata": {},
     "output_type": "execute_result"
    }
   ],
   "source": [
    "num_df.columns"
   ]
  },
  {
   "cell_type": "markdown",
   "id": "4e4da911-cbee-47ed-a175-2a57612d67f7",
   "metadata": {},
   "source": [
    "**percentile**\n",
    "\n",
    "- 25p  :\n",
    "\n",
    "- assume that 25p value=x\n",
    "- 25percentage of data less then value : x\n",
    "- for ex prevailing_wage 25p value is :34015.47\n",
    "- 25percentage of people\n",
    "- total members=25480\n",
    "- 25 percentage of 25480=6370\n",
    "- which means 6370 people has salary lessthan 34015.47"
   ]
  },
  {
   "cell_type": "code",
   "execution_count": 19,
   "id": "b0993d4b-4345-4986-ad78-827137ddfef8",
   "metadata": {},
   "outputs": [
    {
     "data": {
      "text/plain": [
       "34015.479999999996"
      ]
     },
     "execution_count": 19,
     "metadata": {},
     "output_type": "execute_result"
    }
   ],
   "source": [
    "np.percentile(visa_df[\"prevailing_wage\"],25)"
   ]
  },
  {
   "cell_type": "code",
   "execution_count": 20,
   "id": "dd9524f1-58fe-47a8-abf1-3a9fa03ddbc9",
   "metadata": {},
   "outputs": [
    {
     "data": {
      "text/plain": [
       "25480"
      ]
     },
     "execution_count": 20,
     "metadata": {},
     "output_type": "execute_result"
    }
   ],
   "source": [
    "#total pople is\n",
    "len(visa_df[\"prevailing_wage\"])"
   ]
  },
  {
   "cell_type": "code",
   "execution_count": 22,
   "id": "1a7873ac-f9fe-42ba-9d03-d7accd2899a1",
   "metadata": {},
   "outputs": [
    {
     "data": {
      "text/plain": [
       "6370.0"
      ]
     },
     "execution_count": 22,
     "metadata": {},
     "output_type": "execute_result"
    }
   ],
   "source": [
    "#25% of totalpeople\n",
    "25/100*25480"
   ]
  },
  {
   "cell_type": "code",
   "execution_count": null,
   "id": "c5fa3cd3-acbb-4e36-9fd5-aec219ebc56a",
   "metadata": {},
   "outputs": [],
   "source": [
    "#step_1:read the prevailing_wage data\n",
    "#step_2:provide the condition\n",
    "#step_3:prevaling_wage < percentile value"
   ]
  },
  {
   "cell_type": "code",
   "execution_count": 24,
   "id": "a3735ecc-c54a-451c-bb32-8b04631f6c98",
   "metadata": {},
   "outputs": [
    {
     "data": {
      "text/plain": [
       "0         True\n",
       "1        False\n",
       "2        False\n",
       "3        False\n",
       "4        False\n",
       "         ...  \n",
       "25475    False\n",
       "25476    False\n",
       "25477    False\n",
       "25478    False\n",
       "25479    False\n",
       "Name: prevailing_wage, Length: 25480, dtype: bool"
      ]
     },
     "execution_count": 24,
     "metadata": {},
     "output_type": "execute_result"
    }
   ],
   "source": [
    "wage_data=visa_df[\"prevailing_wage\"]\n",
    "p_25=np.percentile(visa_df[\"prevailing_wage\"],25)\n",
    "con=wage_data<p_25\n",
    "con"
   ]
  },
  {
   "cell_type": "code",
   "execution_count": 27,
   "id": "91dcaa90-1c8a-494b-a8a1-05cfe94dfdc9",
   "metadata": {},
   "outputs": [
    {
     "data": {
      "text/plain": [
       "6370"
      ]
     },
     "execution_count": 27,
     "metadata": {},
     "output_type": "execute_result"
    }
   ],
   "source": [
    "visa_df[con]\n",
    "len(visa_df[con])"
   ]
  },
  {
   "cell_type": "markdown",
   "id": "953037fe-f90e-40db-a4d0-6dd71e503700",
   "metadata": {},
   "source": [
    "**50 percentile**"
   ]
  },
  {
   "cell_type": "code",
   "execution_count": 31,
   "id": "cc14700c-dfd5-4aa4-be74-47a54cf4fa97",
   "metadata": {},
   "outputs": [
    {
     "data": {
      "text/plain": [
       "70308.20999999999"
      ]
     },
     "execution_count": 31,
     "metadata": {},
     "output_type": "execute_result"
    }
   ],
   "source": [
    "np.percentile(visa_df[\"prevailing_wage\"],50)"
   ]
  },
  {
   "cell_type": "code",
   "execution_count": 21,
   "id": "b2dac1eb-16ca-43f9-94e8-818d9e4c560a",
   "metadata": {},
   "outputs": [
    {
     "data": {
      "text/plain": [
       "12740"
      ]
     },
     "execution_count": 21,
     "metadata": {},
     "output_type": "execute_result"
    }
   ],
   "source": [
    "wage_data=visa_df[\"prevailing_wage\"]\n",
    "p_50=np.percentile(visa_df[\"prevailing_wage\"],50)\n",
    "con=wage_data<p_50\n",
    "visa_df[con]\n",
    "len(visa_df[con])"
   ]
  },
  {
   "cell_type": "markdown",
   "id": "b230f37d-685e-4778-85d0-a3026da2549b",
   "metadata": {},
   "source": [
    "**75 percentile**"
   ]
  },
  {
   "cell_type": "code",
   "execution_count": 34,
   "id": "0558aebb-14da-4744-8ab2-424d2a53c17a",
   "metadata": {},
   "outputs": [
    {
     "data": {
      "text/plain": [
       "107735.51250000001"
      ]
     },
     "execution_count": 34,
     "metadata": {},
     "output_type": "execute_result"
    }
   ],
   "source": [
    "np.percentile(visa_df[\"prevailing_wage\"],75)"
   ]
  },
  {
   "cell_type": "code",
   "execution_count": 46,
   "id": "5c38a4cb-5ef6-4612-af21-7a5f849ff66b",
   "metadata": {},
   "outputs": [
    {
     "data": {
      "text/plain": [
       "19110.0"
      ]
     },
     "execution_count": 46,
     "metadata": {},
     "output_type": "execute_result"
    }
   ],
   "source": [
    "25480*75/100"
   ]
  },
  {
   "cell_type": "code",
   "execution_count": 22,
   "id": "afb15178-261b-47fa-8e4c-04f588fe6d0c",
   "metadata": {},
   "outputs": [
    {
     "data": {
      "text/plain": [
       "19110"
      ]
     },
     "execution_count": 22,
     "metadata": {},
     "output_type": "execute_result"
    }
   ],
   "source": [
    "wage_data=visa_df[\"prevailing_wage\"]\n",
    "p_75=np.percentile(visa_df[\"prevailing_wage\"],75)\n",
    "con=wage_data<p_75\n",
    "visa_df[con]\n",
    "len(visa_df[con])"
   ]
  },
  {
   "cell_type": "code",
   "execution_count": 85,
   "id": "9c7584ed-a528-4b35-86ff-d784552fe927",
   "metadata": {},
   "outputs": [
    {
     "data": {
      "text/plain": [
       "25480"
      ]
     },
     "execution_count": 85,
     "metadata": {},
     "output_type": "execute_result"
    }
   ],
   "source": [
    "len(visa_df['yr_of_estab'])"
   ]
  },
  {
   "cell_type": "code",
   "execution_count": 86,
   "id": "eb073537-60de-4d77-8f4a-26a6148fdcc9",
   "metadata": {},
   "outputs": [
    {
     "data": {
      "text/plain": [
       "1976.0"
      ]
     },
     "execution_count": 86,
     "metadata": {},
     "output_type": "execute_result"
    }
   ],
   "source": [
    "np.percentile(visa_df[\"yr_of_estab\"],25)"
   ]
  },
  {
   "cell_type": "code",
   "execution_count": 23,
   "id": "dd8d9af5-048c-478d-8370-3cb41fabd41f",
   "metadata": {},
   "outputs": [
    {
     "data": {
      "text/plain": [
       "6326"
      ]
     },
     "execution_count": 23,
     "metadata": {},
     "output_type": "execute_result"
    }
   ],
   "source": [
    "len(visa_df[visa_df['yr_of_estab']<np.percentile(visa_df[\"yr_of_estab\"],25)])"
   ]
  },
  {
   "cell_type": "code",
   "execution_count": 24,
   "id": "3c88172a-b09f-4066-93c2-674aaadca655",
   "metadata": {},
   "outputs": [
    {
     "data": {
      "text/plain": [
       "6367"
      ]
     },
     "execution_count": 24,
     "metadata": {},
     "output_type": "execute_result"
    }
   ],
   "source": [
    "len(visa_df[visa_df[\"no_of_employees\"]<np.percentile(visa_df[\"no_of_employees\"],25)])"
   ]
  },
  {
   "cell_type": "markdown",
   "id": "19781540-33f7-4267-a788-55f134081a57",
   "metadata": {},
   "source": [
    "**empirical rule**\n",
    "\n",
    "mean-1*std to mean+1*std  :68%\n",
    "\n",
    "mean-2*std to mean+2*std  :95%\n",
    "\n",
    "mean-3*std to mean+3*std  :99.7%"
   ]
  },
  {
   "cell_type": "code",
   "execution_count": null,
   "id": "a02a00d9-93f8-4359-b240-88e237470f1c",
   "metadata": {},
   "outputs": [],
   "source": [
    "#step_1:calculate mean of prevailing_wage\n",
    "#step_2:calculate the std of prevailing_wage\n",
    "#step_3:lb=mean-1*std\n",
    "#step_4:ub=mean+1*std\n",
    "#step_5:con1=data<ub\n",
    "#step_6:con2=data>lb\n",
    "#step_7:con3=con1 and con2\n",
    "#step_8:data[con3]\n",
    "#step_9:compare with 68% 25480 count"
   ]
  },
  {
   "cell_type": "code",
   "execution_count": null,
   "id": "37f6eede-e7ad-4b98-a16e-c67acc8f57b9",
   "metadata": {},
   "outputs": [],
   "source": [
    "for68%"
   ]
  },
  {
   "cell_type": "code",
   "execution_count": 8,
   "id": "b5bdf28d-2e2d-412a-815c-55b74c995881",
   "metadata": {},
   "outputs": [
    {
     "data": {
      "text/html": [
       "<div>\n",
       "<style scoped>\n",
       "    .dataframe tbody tr th:only-of-type {\n",
       "        vertical-align: middle;\n",
       "    }\n",
       "\n",
       "    .dataframe tbody tr th {\n",
       "        vertical-align: top;\n",
       "    }\n",
       "\n",
       "    .dataframe thead th {\n",
       "        text-align: right;\n",
       "    }\n",
       "</style>\n",
       "<table border=\"1\" class=\"dataframe\">\n",
       "  <thead>\n",
       "    <tr style=\"text-align: right;\">\n",
       "      <th></th>\n",
       "      <th>case_id</th>\n",
       "      <th>continent</th>\n",
       "      <th>education_of_employee</th>\n",
       "      <th>has_job_experience</th>\n",
       "      <th>requires_job_training</th>\n",
       "      <th>no_of_employees</th>\n",
       "      <th>yr_of_estab</th>\n",
       "      <th>region_of_employment</th>\n",
       "      <th>prevailing_wage</th>\n",
       "      <th>unit_of_wage</th>\n",
       "      <th>full_time_position</th>\n",
       "      <th>case_status</th>\n",
       "    </tr>\n",
       "  </thead>\n",
       "  <tbody>\n",
       "    <tr>\n",
       "      <th>1</th>\n",
       "      <td>EZYV02</td>\n",
       "      <td>Asia</td>\n",
       "      <td>Master's</td>\n",
       "      <td>Y</td>\n",
       "      <td>N</td>\n",
       "      <td>2412</td>\n",
       "      <td>2002</td>\n",
       "      <td>Northeast</td>\n",
       "      <td>83425.65</td>\n",
       "      <td>Year</td>\n",
       "      <td>Y</td>\n",
       "      <td>Certified</td>\n",
       "    </tr>\n",
       "    <tr>\n",
       "      <th>2</th>\n",
       "      <td>EZYV03</td>\n",
       "      <td>Asia</td>\n",
       "      <td>Bachelor's</td>\n",
       "      <td>N</td>\n",
       "      <td>Y</td>\n",
       "      <td>44444</td>\n",
       "      <td>2008</td>\n",
       "      <td>West</td>\n",
       "      <td>122996.86</td>\n",
       "      <td>Year</td>\n",
       "      <td>Y</td>\n",
       "      <td>Denied</td>\n",
       "    </tr>\n",
       "    <tr>\n",
       "      <th>3</th>\n",
       "      <td>EZYV04</td>\n",
       "      <td>Asia</td>\n",
       "      <td>Bachelor's</td>\n",
       "      <td>N</td>\n",
       "      <td>N</td>\n",
       "      <td>98</td>\n",
       "      <td>1897</td>\n",
       "      <td>West</td>\n",
       "      <td>83434.03</td>\n",
       "      <td>Year</td>\n",
       "      <td>Y</td>\n",
       "      <td>Denied</td>\n",
       "    </tr>\n",
       "    <tr>\n",
       "      <th>5</th>\n",
       "      <td>EZYV06</td>\n",
       "      <td>Asia</td>\n",
       "      <td>Master's</td>\n",
       "      <td>Y</td>\n",
       "      <td>N</td>\n",
       "      <td>2339</td>\n",
       "      <td>2012</td>\n",
       "      <td>South</td>\n",
       "      <td>78252.14</td>\n",
       "      <td>Year</td>\n",
       "      <td>Y</td>\n",
       "      <td>Certified</td>\n",
       "    </tr>\n",
       "    <tr>\n",
       "      <th>6</th>\n",
       "      <td>EZYV07</td>\n",
       "      <td>Asia</td>\n",
       "      <td>Bachelor's</td>\n",
       "      <td>N</td>\n",
       "      <td>N</td>\n",
       "      <td>4985</td>\n",
       "      <td>1994</td>\n",
       "      <td>South</td>\n",
       "      <td>53635.39</td>\n",
       "      <td>Year</td>\n",
       "      <td>Y</td>\n",
       "      <td>Certified</td>\n",
       "    </tr>\n",
       "    <tr>\n",
       "      <th>...</th>\n",
       "      <td>...</td>\n",
       "      <td>...</td>\n",
       "      <td>...</td>\n",
       "      <td>...</td>\n",
       "      <td>...</td>\n",
       "      <td>...</td>\n",
       "      <td>...</td>\n",
       "      <td>...</td>\n",
       "      <td>...</td>\n",
       "      <td>...</td>\n",
       "      <td>...</td>\n",
       "      <td>...</td>\n",
       "    </tr>\n",
       "    <tr>\n",
       "      <th>25473</th>\n",
       "      <td>EZYV25474</td>\n",
       "      <td>Asia</td>\n",
       "      <td>Bachelor's</td>\n",
       "      <td>Y</td>\n",
       "      <td>N</td>\n",
       "      <td>2421</td>\n",
       "      <td>2007</td>\n",
       "      <td>Northeast</td>\n",
       "      <td>22845.56</td>\n",
       "      <td>Year</td>\n",
       "      <td>Y</td>\n",
       "      <td>Certified</td>\n",
       "    </tr>\n",
       "    <tr>\n",
       "      <th>25474</th>\n",
       "      <td>EZYV25475</td>\n",
       "      <td>Africa</td>\n",
       "      <td>Doctorate</td>\n",
       "      <td>N</td>\n",
       "      <td>N</td>\n",
       "      <td>2594</td>\n",
       "      <td>1979</td>\n",
       "      <td>Northeast</td>\n",
       "      <td>51104.78</td>\n",
       "      <td>Year</td>\n",
       "      <td>Y</td>\n",
       "      <td>Certified</td>\n",
       "    </tr>\n",
       "    <tr>\n",
       "      <th>25475</th>\n",
       "      <td>EZYV25476</td>\n",
       "      <td>Asia</td>\n",
       "      <td>Bachelor's</td>\n",
       "      <td>Y</td>\n",
       "      <td>Y</td>\n",
       "      <td>2601</td>\n",
       "      <td>2008</td>\n",
       "      <td>South</td>\n",
       "      <td>77092.57</td>\n",
       "      <td>Year</td>\n",
       "      <td>Y</td>\n",
       "      <td>Certified</td>\n",
       "    </tr>\n",
       "    <tr>\n",
       "      <th>25478</th>\n",
       "      <td>EZYV25479</td>\n",
       "      <td>Asia</td>\n",
       "      <td>Master's</td>\n",
       "      <td>Y</td>\n",
       "      <td>Y</td>\n",
       "      <td>1918</td>\n",
       "      <td>1887</td>\n",
       "      <td>West</td>\n",
       "      <td>86154.77</td>\n",
       "      <td>Year</td>\n",
       "      <td>Y</td>\n",
       "      <td>Certified</td>\n",
       "    </tr>\n",
       "    <tr>\n",
       "      <th>25479</th>\n",
       "      <td>EZYV25480</td>\n",
       "      <td>Asia</td>\n",
       "      <td>Bachelor's</td>\n",
       "      <td>Y</td>\n",
       "      <td>N</td>\n",
       "      <td>3195</td>\n",
       "      <td>1960</td>\n",
       "      <td>Midwest</td>\n",
       "      <td>70876.91</td>\n",
       "      <td>Year</td>\n",
       "      <td>Y</td>\n",
       "      <td>Certified</td>\n",
       "    </tr>\n",
       "  </tbody>\n",
       "</table>\n",
       "<p>17171 rows × 12 columns</p>\n",
       "</div>"
      ],
      "text/plain": [
       "         case_id continent education_of_employee has_job_experience  \\\n",
       "1         EZYV02      Asia              Master's                  Y   \n",
       "2         EZYV03      Asia            Bachelor's                  N   \n",
       "3         EZYV04      Asia            Bachelor's                  N   \n",
       "5         EZYV06      Asia              Master's                  Y   \n",
       "6         EZYV07      Asia            Bachelor's                  N   \n",
       "...          ...       ...                   ...                ...   \n",
       "25473  EZYV25474      Asia            Bachelor's                  Y   \n",
       "25474  EZYV25475    Africa             Doctorate                  N   \n",
       "25475  EZYV25476      Asia            Bachelor's                  Y   \n",
       "25478  EZYV25479      Asia              Master's                  Y   \n",
       "25479  EZYV25480      Asia            Bachelor's                  Y   \n",
       "\n",
       "      requires_job_training  no_of_employees  yr_of_estab  \\\n",
       "1                         N             2412         2002   \n",
       "2                         Y            44444         2008   \n",
       "3                         N               98         1897   \n",
       "5                         N             2339         2012   \n",
       "6                         N             4985         1994   \n",
       "...                     ...              ...          ...   \n",
       "25473                     N             2421         2007   \n",
       "25474                     N             2594         1979   \n",
       "25475                     Y             2601         2008   \n",
       "25478                     Y             1918         1887   \n",
       "25479                     N             3195         1960   \n",
       "\n",
       "      region_of_employment  prevailing_wage unit_of_wage full_time_position  \\\n",
       "1                Northeast         83425.65         Year                  Y   \n",
       "2                     West        122996.86         Year                  Y   \n",
       "3                     West         83434.03         Year                  Y   \n",
       "5                    South         78252.14         Year                  Y   \n",
       "6                    South         53635.39         Year                  Y   \n",
       "...                    ...              ...          ...                ...   \n",
       "25473            Northeast         22845.56         Year                  Y   \n",
       "25474            Northeast         51104.78         Year                  Y   \n",
       "25475                South         77092.57         Year                  Y   \n",
       "25478                 West         86154.77         Year                  Y   \n",
       "25479              Midwest         70876.91         Year                  Y   \n",
       "\n",
       "      case_status  \n",
       "1       Certified  \n",
       "2          Denied  \n",
       "3          Denied  \n",
       "5       Certified  \n",
       "6       Certified  \n",
       "...           ...  \n",
       "25473   Certified  \n",
       "25474   Certified  \n",
       "25475   Certified  \n",
       "25478   Certified  \n",
       "25479   Certified  \n",
       "\n",
       "[17171 rows x 12 columns]"
      ]
     },
     "execution_count": 8,
     "metadata": {},
     "output_type": "execute_result"
    }
   ],
   "source": [
    "mean=visa_df[\"prevailing_wage\"].mean()\n",
    "std=visa_df[\"prevailing_wage\"].std()\n",
    "lb=mean-(1*std)\n",
    "ub=mean+(1*std)\n",
    "con1=visa_df[\"prevailing_wage\"]<ub\n",
    "con2=visa_df[\"prevailing_wage\"]>lb\n",
    "con3=con1&con2\n",
    "visa_df[con3]"
   ]
  },
  {
   "cell_type": "code",
   "execution_count": 9,
   "id": "5b1aeba3-eb71-4255-a76d-9f2f8c2b4eb2",
   "metadata": {},
   "outputs": [
    {
     "data": {
      "text/plain": [
       "17171"
      ]
     },
     "execution_count": 9,
     "metadata": {},
     "output_type": "execute_result"
    }
   ],
   "source": [
    "mean=visa_df[\"prevailing_wage\"].mean()\n",
    "std=visa_df[\"prevailing_wage\"].std()\n",
    "lb=mean-(1*std)\n",
    "ub=mean+(1*std)\n",
    "con1=visa_df[\"prevailing_wage\"]<ub\n",
    "con2=visa_df[\"prevailing_wage\"]>lb\n",
    "con3=con1&con2\n",
    "len(visa_df[con3])"
   ]
  },
  {
   "cell_type": "code",
   "execution_count": 95,
   "id": "dc251cf4-aee5-49c4-aeae-94944d42b58d",
   "metadata": {},
   "outputs": [
    {
     "data": {
      "text/plain": [
       "17326.4"
      ]
     },
     "execution_count": 95,
     "metadata": {},
     "output_type": "execute_result"
    }
   ],
   "source": [
    "25480*68/100"
   ]
  },
  {
   "cell_type": "code",
   "execution_count": null,
   "id": "b8684c9e-29de-4e72-aeef-f42f16cb592a",
   "metadata": {},
   "outputs": [],
   "source": [
    "for 95% data"
   ]
  },
  {
   "cell_type": "code",
   "execution_count": 27,
   "id": "aeb60ae7-c12b-42c0-b040-c51b5a5e6322",
   "metadata": {},
   "outputs": [
    {
     "data": {
      "text/plain": [
       "24582"
      ]
     },
     "execution_count": 27,
     "metadata": {},
     "output_type": "execute_result"
    }
   ],
   "source": [
    "mean=visa_df[\"prevailing_wage\"].mean()\n",
    "std=visa_df[\"prevailing_wage\"].std()\n",
    "lb=mean-2*std\n",
    "ub=mean+2*std\n",
    "con1=visa_df[\"prevailing_wage\"]<ub\n",
    "con2=visa_df[\"prevailing_wage\"]>lb\n",
    "con3=con1&con2\n",
    "len(visa_df[con3])"
   ]
  },
  {
   "cell_type": "code",
   "execution_count": 99,
   "id": "a8dd9d97-9857-4362-95ba-ad9280434ab1",
   "metadata": {},
   "outputs": [
    {
     "data": {
      "text/plain": [
       "24206.0"
      ]
     },
     "execution_count": 99,
     "metadata": {},
     "output_type": "execute_result"
    }
   ],
   "source": [
    "25480*95/100"
   ]
  },
  {
   "cell_type": "code",
   "execution_count": null,
   "id": "7e3e2d97-3f85-4d70-8630-75aae4a07fe3",
   "metadata": {},
   "outputs": [],
   "source": [
    "for 99.7% data"
   ]
  },
  {
   "cell_type": "code",
   "execution_count": 28,
   "id": "bb5aa65c-631b-431d-9f71-1075eecc52c7",
   "metadata": {},
   "outputs": [
    {
     "data": {
      "text/plain": [
       "25186"
      ]
     },
     "execution_count": 28,
     "metadata": {},
     "output_type": "execute_result"
    }
   ],
   "source": [
    "mean=visa_df[\"prevailing_wage\"].mean()\n",
    "std=visa_df[\"prevailing_wage\"].std()\n",
    "lb=mean-3*std\n",
    "ub=mean+3*std\n",
    "con1=visa_df[\"prevailing_wage\"]<ub\n",
    "con2=visa_df[\"prevailing_wage\"]>lb\n",
    "con3=con1&con2\n",
    "len(visa_df[con3])"
   ]
  },
  {
   "cell_type": "code",
   "execution_count": 100,
   "id": "a2789c66-b592-4741-b3e6-bbb4190b20d2",
   "metadata": {},
   "outputs": [
    {
     "data": {
      "text/plain": [
       "25225.2"
      ]
     },
     "execution_count": 100,
     "metadata": {},
     "output_type": "execute_result"
    }
   ],
   "source": [
    "25480*99/100"
   ]
  },
  {
   "cell_type": "markdown",
   "id": "7c6ea106-fa19-4471-ba2c-ddcf03afdbe0",
   "metadata": {},
   "source": [
    "**describe function**"
   ]
  },
  {
   "cell_type": "code",
   "execution_count": 29,
   "id": "f4ed0645-59d4-4c68-8b16-fee50bd851bb",
   "metadata": {},
   "outputs": [
    {
     "data": {
      "text/html": [
       "<div>\n",
       "<style scoped>\n",
       "    .dataframe tbody tr th:only-of-type {\n",
       "        vertical-align: middle;\n",
       "    }\n",
       "\n",
       "    .dataframe tbody tr th {\n",
       "        vertical-align: top;\n",
       "    }\n",
       "\n",
       "    .dataframe thead th {\n",
       "        text-align: right;\n",
       "    }\n",
       "</style>\n",
       "<table border=\"1\" class=\"dataframe\">\n",
       "  <thead>\n",
       "    <tr style=\"text-align: right;\">\n",
       "      <th></th>\n",
       "      <th>no_of_employees</th>\n",
       "      <th>yr_of_estab</th>\n",
       "      <th>prevailing_wage</th>\n",
       "    </tr>\n",
       "  </thead>\n",
       "  <tbody>\n",
       "    <tr>\n",
       "      <th>count</th>\n",
       "      <td>25480.000000</td>\n",
       "      <td>25480.000000</td>\n",
       "      <td>25480.000000</td>\n",
       "    </tr>\n",
       "    <tr>\n",
       "      <th>mean</th>\n",
       "      <td>5667.043210</td>\n",
       "      <td>1979.409929</td>\n",
       "      <td>74455.814592</td>\n",
       "    </tr>\n",
       "    <tr>\n",
       "      <th>std</th>\n",
       "      <td>22877.928848</td>\n",
       "      <td>42.366929</td>\n",
       "      <td>52815.942327</td>\n",
       "    </tr>\n",
       "    <tr>\n",
       "      <th>min</th>\n",
       "      <td>-26.000000</td>\n",
       "      <td>1800.000000</td>\n",
       "      <td>2.136700</td>\n",
       "    </tr>\n",
       "    <tr>\n",
       "      <th>25%</th>\n",
       "      <td>1022.000000</td>\n",
       "      <td>1976.000000</td>\n",
       "      <td>34015.480000</td>\n",
       "    </tr>\n",
       "    <tr>\n",
       "      <th>50%</th>\n",
       "      <td>2109.000000</td>\n",
       "      <td>1997.000000</td>\n",
       "      <td>70308.210000</td>\n",
       "    </tr>\n",
       "    <tr>\n",
       "      <th>75%</th>\n",
       "      <td>3504.000000</td>\n",
       "      <td>2005.000000</td>\n",
       "      <td>107735.512500</td>\n",
       "    </tr>\n",
       "    <tr>\n",
       "      <th>max</th>\n",
       "      <td>602069.000000</td>\n",
       "      <td>2016.000000</td>\n",
       "      <td>319210.270000</td>\n",
       "    </tr>\n",
       "  </tbody>\n",
       "</table>\n",
       "</div>"
      ],
      "text/plain": [
       "       no_of_employees   yr_of_estab  prevailing_wage\n",
       "count     25480.000000  25480.000000     25480.000000\n",
       "mean       5667.043210   1979.409929     74455.814592\n",
       "std       22877.928848     42.366929     52815.942327\n",
       "min         -26.000000   1800.000000         2.136700\n",
       "25%        1022.000000   1976.000000     34015.480000\n",
       "50%        2109.000000   1997.000000     70308.210000\n",
       "75%        3504.000000   2005.000000    107735.512500\n",
       "max      602069.000000   2016.000000    319210.270000"
      ]
     },
     "execution_count": 29,
     "metadata": {},
     "output_type": "execute_result"
    }
   ],
   "source": [
    "visa_df.describe()"
   ]
  },
  {
   "cell_type": "markdown",
   "id": "7392dee2-1eba-48c4-b1e2-05d5d41a3ab2",
   "metadata": {},
   "source": [
    "**histogram**\n",
    "\n",
    "- by applying empirical rule we observe slight deviation in the count of data\n",
    "- also mean is slightly deviated from median\n",
    "- this givea an indicationthe datadoes not follows normal distributionm\n",
    "- to understand more clearly will visualize he data\n",
    "- it is a numerical data ,so the plot name is **histogram**\n",
    "- it is a graph between ciand cif\n",
    "- and the plot is available in **matplotlib package**\n",
    "- the method name is **hist**"
   ]
  },
  {
   "cell_type": "code",
   "execution_count": null,
   "id": "28a948a4-dea0-42c4-b47f-2a93d18abe7d",
   "metadata": {},
   "outputs": [],
   "source": [
    "#read the preavailing_wage\n",
    "#plt.hist()\n",
    "plt.hist()"
   ]
  },
  {
   "cell_type": "code",
   "execution_count": 32,
   "id": "152f2784-ad99-4d5d-9019-9403278c15f5",
   "metadata": {},
   "outputs": [
    {
     "data": {
      "text/plain": [
       "0           592.2029\n",
       "1         83425.6500\n",
       "2        122996.8600\n",
       "3         83434.0300\n",
       "4        149907.3900\n",
       "            ...     \n",
       "25475     77092.5700\n",
       "25476    279174.7900\n",
       "25477    146298.8500\n",
       "25478     86154.7700\n",
       "25479     70876.9100\n",
       "Name: prevailing_wage, Length: 25480, dtype: float64"
      ]
     },
     "execution_count": 32,
     "metadata": {},
     "output_type": "execute_result"
    }
   ],
   "source": [
    "data=visa_df[\"prevailing_wage\"]"
   ]
  },
  {
   "cell_type": "code",
   "execution_count": 10,
   "id": "589d720a-e73d-4c79-b435-42fed778a831",
   "metadata": {},
   "outputs": [
    {
     "name": "stdout",
     "output_type": "stream",
     "text": [
      "[3863. 2175. 2676. 2828. 2889. 2792. 2485. 2066. 1452.  882.  408.  216.\n",
      "  206.  167.  129.  111.   66.   48.   10.   11.] 20\n",
      "[2.13670000e+00 1.59625434e+04 3.19229500e+04 4.78833567e+04\n",
      " 6.38437634e+04 7.98041700e+04 9.57645767e+04 1.11724983e+05\n",
      " 1.27685390e+05 1.43645797e+05 1.59606203e+05 1.75566610e+05\n",
      " 1.91527017e+05 2.07487423e+05 2.23447830e+05 2.39408237e+05\n",
      " 2.55368643e+05 2.71329050e+05 2.87289457e+05 3.03249863e+05\n",
      " 3.19210270e+05] 21\n",
      "<BarContainer object of 20 artists>\n"
     ]
    },
    {
     "data": {
      "image/png": "[encoded data removed]",
      "text/plain": [
       "<Figure size 640x480 with 1 Axes>"
      ]
     },
     "metadata": {},
     "output_type": "display_data"
    }
   ],
   "source": [
    "count,bins,x=plt.hist(visa_df[\"prevailing_wage\"],bins=20)\n",
    "print(count,len(count))\n",
    "print(bins,len(bins))\n",
    "print(x)"
   ]
  },
  {
   "cell_type": "code",
   "execution_count": 88,
   "id": "2b5f5993-f303-4ae4-bf82-ef2af0e55b8b",
   "metadata": {},
   "outputs": [
    {
     "data": {
      "text/plain": [
       "array([3863., 2175., 2676., 2828., 2889., 2792., 2485., 2066., 1452.,\n",
       "        882.,  408.,  216.,  206.,  167.,  129.,  111.,   66.,   48.,\n",
       "         10.,   11.])"
      ]
     },
     "execution_count": 88,
     "metadata": {},
     "output_type": "execute_result"
    }
   ],
   "source": [
    "count"
   ]
  },
  {
   "cell_type": "code",
   "execution_count": 14,
   "id": "867e6afa-e47a-46b0-9314-ae64feb467e0",
   "metadata": {},
   "outputs": [
    {
     "data": {
      "text/plain": [
       "array([2.13670000e+00, 1.59625434e+04, 3.19229500e+04, 4.78833567e+04,\n",
       "       6.38437634e+04, 7.98041700e+04, 9.57645767e+04, 1.11724983e+05,\n",
       "       1.27685390e+05, 1.43645797e+05, 1.59606203e+05, 1.75566610e+05,\n",
       "       1.91527017e+05, 2.07487423e+05, 2.23447830e+05, 2.39408237e+05,\n",
       "       2.55368643e+05, 2.71329050e+05, 2.87289457e+05, 3.03249863e+05,\n",
       "       3.19210270e+05])"
      ]
     },
     "execution_count": 14,
     "metadata": {},
     "output_type": "execute_result"
    }
   ],
   "source": [
    "bins"
   ]
  },
  {
   "cell_type": "code",
   "execution_count": 11,
   "id": "5541a39d-97d5-4af5-bd3f-dbb29e175491",
   "metadata": {},
   "outputs": [
    {
     "data": {
      "text/html": [
       "<div>\n",
       "<style scoped>\n",
       "    .dataframe tbody tr th:only-of-type {\n",
       "        vertical-align: middle;\n",
       "    }\n",
       "\n",
       "    .dataframe tbody tr th {\n",
       "        vertical-align: top;\n",
       "    }\n",
       "\n",
       "    .dataframe thead th {\n",
       "        text-align: right;\n",
       "    }\n",
       "</style>\n",
       "<table border=\"1\" class=\"dataframe\">\n",
       "  <thead>\n",
       "    <tr style=\"text-align: right;\">\n",
       "      <th></th>\n",
       "      <th>interval</th>\n",
       "      <th>values</th>\n",
       "    </tr>\n",
       "  </thead>\n",
       "  <tbody>\n",
       "    <tr>\n",
       "      <th>0</th>\n",
       "      <td>2.14 to 15963</td>\n",
       "      <td>3863.0</td>\n",
       "    </tr>\n",
       "    <tr>\n",
       "      <th>1</th>\n",
       "      <td>15962.54 to 31923</td>\n",
       "      <td>2175.0</td>\n",
       "    </tr>\n",
       "    <tr>\n",
       "      <th>2</th>\n",
       "      <td>31922.95 to 47883</td>\n",
       "      <td>2676.0</td>\n",
       "    </tr>\n",
       "    <tr>\n",
       "      <th>3</th>\n",
       "      <td>47883.36 to 63844</td>\n",
       "      <td>2828.0</td>\n",
       "    </tr>\n",
       "    <tr>\n",
       "      <th>4</th>\n",
       "      <td>63843.76 to 79804</td>\n",
       "      <td>2889.0</td>\n",
       "    </tr>\n",
       "    <tr>\n",
       "      <th>5</th>\n",
       "      <td>79804.17 to 95765</td>\n",
       "      <td>2792.0</td>\n",
       "    </tr>\n",
       "    <tr>\n",
       "      <th>6</th>\n",
       "      <td>95764.58 to 111725</td>\n",
       "      <td>2485.0</td>\n",
       "    </tr>\n",
       "    <tr>\n",
       "      <th>7</th>\n",
       "      <td>111724.98 to 127685</td>\n",
       "      <td>2066.0</td>\n",
       "    </tr>\n",
       "    <tr>\n",
       "      <th>8</th>\n",
       "      <td>127685.39 to 143646</td>\n",
       "      <td>1452.0</td>\n",
       "    </tr>\n",
       "    <tr>\n",
       "      <th>9</th>\n",
       "      <td>143645.8 to 159606</td>\n",
       "      <td>882.0</td>\n",
       "    </tr>\n",
       "    <tr>\n",
       "      <th>10</th>\n",
       "      <td>159606.2 to 175567</td>\n",
       "      <td>408.0</td>\n",
       "    </tr>\n",
       "    <tr>\n",
       "      <th>11</th>\n",
       "      <td>175566.61 to 191527</td>\n",
       "      <td>216.0</td>\n",
       "    </tr>\n",
       "    <tr>\n",
       "      <th>12</th>\n",
       "      <td>191527.02 to 207487</td>\n",
       "      <td>206.0</td>\n",
       "    </tr>\n",
       "    <tr>\n",
       "      <th>13</th>\n",
       "      <td>207487.42 to 223448</td>\n",
       "      <td>167.0</td>\n",
       "    </tr>\n",
       "    <tr>\n",
       "      <th>14</th>\n",
       "      <td>223447.83 to 239408</td>\n",
       "      <td>129.0</td>\n",
       "    </tr>\n",
       "    <tr>\n",
       "      <th>15</th>\n",
       "      <td>239408.24 to 255369</td>\n",
       "      <td>111.0</td>\n",
       "    </tr>\n",
       "    <tr>\n",
       "      <th>16</th>\n",
       "      <td>255368.64 to 271329</td>\n",
       "      <td>66.0</td>\n",
       "    </tr>\n",
       "    <tr>\n",
       "      <th>17</th>\n",
       "      <td>271329.05 to 287289</td>\n",
       "      <td>48.0</td>\n",
       "    </tr>\n",
       "    <tr>\n",
       "      <th>18</th>\n",
       "      <td>287289.46 to 303250</td>\n",
       "      <td>10.0</td>\n",
       "    </tr>\n",
       "    <tr>\n",
       "      <th>19</th>\n",
       "      <td>303249.86 to 319210</td>\n",
       "      <td>11.0</td>\n",
       "    </tr>\n",
       "  </tbody>\n",
       "</table>\n",
       "</div>"
      ],
      "text/plain": [
       "               interval  values\n",
       "0         2.14 to 15963  3863.0\n",
       "1     15962.54 to 31923  2175.0\n",
       "2     31922.95 to 47883  2676.0\n",
       "3     47883.36 to 63844  2828.0\n",
       "4     63843.76 to 79804  2889.0\n",
       "5     79804.17 to 95765  2792.0\n",
       "6    95764.58 to 111725  2485.0\n",
       "7   111724.98 to 127685  2066.0\n",
       "8   127685.39 to 143646  1452.0\n",
       "9    143645.8 to 159606   882.0\n",
       "10   159606.2 to 175567   408.0\n",
       "11  175566.61 to 191527   216.0\n",
       "12  191527.02 to 207487   206.0\n",
       "13  207487.42 to 223448   167.0\n",
       "14  223447.83 to 239408   129.0\n",
       "15  239408.24 to 255369   111.0\n",
       "16  255368.64 to 271329    66.0\n",
       "17  271329.05 to 287289    48.0\n",
       "18  287289.46 to 303250    10.0\n",
       "19  303249.86 to 319210    11.0"
      ]
     },
     "execution_count": 11,
     "metadata": {},
     "output_type": "execute_result"
    }
   ],
   "source": [
    "list=[]\n",
    "for i in range(len(bins)):\n",
    "    if i== 20:\n",
    "        break\n",
    "    else:\n",
    "        a=round(bins[i],2)\n",
    "        b=round(bins[i+1])\n",
    "        list.append(f\"{a} to {b}\")\n",
    "list\n",
    "pd.DataFrame(zip(list,count),columns=[\"interval\",\"values\"])"
   ]
  },
  {
   "cell_type": "markdown",
   "id": "07640270-452c-415d-9c85-1ce3ee8c654a",
   "metadata": {},
   "source": [
    "- histogram will return 3values\n",
    "- 1st is interval count array\n",
    "- we have 20 intervals ,so we have 20 interval counts\n",
    "- bins is no.of intervals\n",
    "- so we have 20 intervals so we need 21 values\n",
    "- will display how many intervals are available\n",
    "- for ex:in the bins array the 1st two forms 1 interval\n",
    "- 2.136 to 15962.543 the count is 3863\n",
    "- 3863 observation are available between 2.13 to 15962.543\n",
    "- similarly 2175 observation are availble between(15962.5434,31922.95)"
   ]
  },
  {
   "cell_type": "code",
   "execution_count": null,
   "id": "18d81e69-21f3-4045-b0bb-8d7efd5edd18",
   "metadata": {},
   "outputs": [],
   "source": []
  },
  {
   "cell_type": "code",
   "execution_count": 50,
   "id": "e8c41a6e-e806-414b-b403-67f71da3132e",
   "metadata": {},
   "outputs": [
    {
     "data": {
      "text/plain": [
       "3863"
      ]
     },
     "execution_count": 50,
     "metadata": {},
     "output_type": "execute_result"
    }
   ],
   "source": [
    "#3863 observation\n",
    "lb=2.136\n",
    "ub=15962.543\n",
    "con1=visa_df[\"prevailing_wage\"]<ub\n",
    "con2=visa_df[\"prevailing_wage\"]>lb\n",
    "con3=con1&con2\n",
    "len(visa_df[con3])"
   ]
  },
  {
   "cell_type": "code",
   "execution_count": 49,
   "id": "7652faa1-e8ad-4e05-9ff3-361d4b03ca53",
   "metadata": {},
   "outputs": [
    {
     "data": {
      "text/plain": [
       "2175"
      ]
     },
     "execution_count": 49,
     "metadata": {},
     "output_type": "execute_result"
    }
   ],
   "source": [
    "#2175 observation\n",
    "lb=15962.5434\n",
    "ub=31922.95\n",
    "con1=visa_df[\"prevailing_wage\"]<ub\n",
    "con2=visa_df[\"prevailing_wage\"]>lb\n",
    "con3=con1&con2\n",
    "len(visa_df[con3])"
   ]
  },
  {
   "cell_type": "code",
   "execution_count": 48,
   "id": "ea7bc5f6-e83b-4223-92d1-6ddf664f8fde",
   "metadata": {},
   "outputs": [
    {
     "data": {
      "text/plain": [
       "2676"
      ]
     },
     "execution_count": 48,
     "metadata": {},
     "output_type": "execute_result"
    }
   ],
   "source": [
    "lb=31922.9500\n",
    "ub=47883.3567\n",
    "con1=visa_df[\"prevailing_wage\"]<ub\n",
    "con2=visa_df[\"prevailing_wage\"]>lb\n",
    "con3=con1&con2\n",
    "len(visa_df[con3])"
   ]
  },
  {
   "cell_type": "code",
   "execution_count": 68,
   "id": "028bf423-4db8-4f45-80d0-0312ceff2761",
   "metadata": {},
   "outputs": [],
   "source": [
    "import os\n",
    "root=os.getcwd()\n",
    "folder=\"visa_data_histogram\"\n",
    "dir=os.path.join(root+\"\\\\\"+\"visa_numerical_data\",folder)\n",
    "os.makedirs(dir)"
   ]
  },
  {
   "cell_type": "code",
   "execution_count": 13,
   "id": "f7f6cc65-4b6f-4063-a4d0-25ab60911aff",
   "metadata": {},
   "outputs": [
    {
     "data": {
      "image/png": "[encoded data removed]",
      "text/plain": [
       "<Figure size 640x480 with 1 Axes>"
      ]
     },
     "metadata": {},
     "output_type": "display_data"
    },
    {
     "data": {
      "image/png": "[encoded data removed]",
      "text/plain": [
       "<Figure size 640x480 with 1 Axes>"
      ]
     },
     "metadata": {},
     "output_type": "display_data"
    },
    {
     "data": {
      "image/png": "[encoded data removed]",
      "text/plain": [
       "<Figure size 640x480 with 1 Axes>"
      ]
     },
     "metadata": {},
     "output_type": "display_data"
    }
   ],
   "source": [
    "for i in num_df:\n",
    "    plt.figure()\n",
    "    plt.hist(visa_df[i],bins=20,edgecolor=\"r\")\n",
    "    plt.title(f\"{i}_histogram\")\n",
    "    plt.xlabel(i)\n",
    "    plt.ylabel(\"cif\")\n",
    "   # plt.savefig(f\"{dir}\\\\{i}.jpg\")"
   ]
  },
  {
   "cell_type": "code",
   "execution_count": 15,
   "id": "d490c6b4-e59c-4ab6-9b55-91bec689273e",
   "metadata": {},
   "outputs": [
    {
     "data": {
      "text/plain": [
       "Index(['no_of_employees', 'yr_of_estab', 'prevailing_wage'], dtype='object')"
      ]
     },
     "execution_count": 15,
     "metadata": {},
     "output_type": "execute_result"
    }
   ],
   "source": [
    "num_column"
   ]
  },
  {
   "cell_type": "markdown",
   "id": "452af323-f6d0-48a1-85e5-a1ea4eaf1cc1",
   "metadata": {},
   "source": [
    "**draw the histogrmm using seaborn?**"
   ]
  },
  {
   "cell_type": "code",
   "execution_count": 18,
   "id": "c0ea7f51-098d-480e-bc4f-20e1e2778ad7",
   "metadata": {},
   "outputs": [
    {
     "data": {
      "text/plain": [
       "0           592.2029\n",
       "1         83425.6500\n",
       "2        122996.8600\n",
       "3         83434.0300\n",
       "4        149907.3900\n",
       "            ...     \n",
       "25475     77092.5700\n",
       "25476    279174.7900\n",
       "25477    146298.8500\n",
       "25478     86154.7700\n",
       "25479     70876.9100\n",
       "Name: prevailing_wage, Length: 25480, dtype: float64"
      ]
     },
     "execution_count": 18,
     "metadata": {},
     "output_type": "execute_result"
    }
   ],
   "source": [
    "visa_df[\"prevailing_wage\"]"
   ]
  },
  {
   "cell_type": "code",
   "execution_count": 23,
   "id": "20502815-5590-4cd4-aa84-0946552ff7c2",
   "metadata": {},
   "outputs": [
    {
     "name": "stderr",
     "output_type": "stream",
     "text": [
      "C:\\Users\\kisho\\anaconda3\\Lib\\site-packages\\seaborn\\_oldcore.py:1119: FutureWarning: use_inf_as_na option is deprecated and will be removed in a future version. Convert inf values to NaN before operating instead.\n",
      "  with pd.option_context('mode.use_inf_as_na', True):\n"
     ]
    },
    {
     "data": {
      "image/png": "[encoded data removed]",
      "text/plain": [
       "<Figure size 640x480 with 1 Axes>"
      ]
     },
     "metadata": {},
     "output_type": "display_data"
    }
   ],
   "source": [
    "sns.histplot(visa_df[\"prevailing_wage\"])\n",
    "plt.title(\"histogram\")\n",
    "plt.show()"
   ]
  },
  {
   "cell_type": "code",
   "execution_count": null,
   "id": "3da3e983-b521-4329-bab8-7e37d679b05b",
   "metadata": {},
   "outputs": [],
   "source": []
  },
  {
   "cell_type": "code",
   "execution_count": null,
   "id": "cbb49d1f-58b8-4523-9090-cfc241aeb3a7",
   "metadata": {},
   "outputs": [],
   "source": []
  },
  {
   "cell_type": "code",
   "execution_count": null,
   "id": "842528c1-5f6a-4834-aaed-40757cfc2fa0",
   "metadata": {},
   "outputs": [],
   "source": []
  },
  {
   "cell_type": "code",
   "execution_count": null,
   "id": "3eb6e77a-2450-458b-b040-9b5ca0be4a81",
   "metadata": {},
   "outputs": [],
   "source": []
  },
  {
   "cell_type": "code",
   "execution_count": null,
   "id": "ce056b77-fec9-4d79-942f-51be5b42a01d",
   "metadata": {},
   "outputs": [],
   "source": []
  },
  {
   "cell_type": "code",
   "execution_count": null,
   "id": "710f60ff-5ae5-4b29-967d-8a1fe1142d5d",
   "metadata": {},
   "outputs": [],
   "source": []
  },
  {
   "cell_type": "code",
   "execution_count": null,
   "id": "ea2bae64-445f-4c0d-8d45-a2f1776fc7c1",
   "metadata": {},
   "outputs": [],
   "source": []
  },
  {
   "cell_type": "code",
   "execution_count": null,
   "id": "47fafa9f-f913-4325-a086-c6f6a967737d",
   "metadata": {},
   "outputs": [],
   "source": []
  }
 ],
 "metadata": {
  "kernelspec": {
   "display_name": "Python 3 (ipykernel)",
   "language": "python",
   "name": "python3"
  },
  "language_info": {
   "codemirror_mode": {
    "name": "ipython",
    "version": 3
   },
   "file_extension": ".py",
   "mimetype": "text/x-python",
   "name": "python",
   "nbconvert_exporter": "python",
   "pygments_lexer": "ipython3",
   "version": "3.11.7"
  }
 },
 "nbformat": 4,
 "nbformat_minor": 5
}
